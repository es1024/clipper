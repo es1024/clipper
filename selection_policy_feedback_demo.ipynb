{
 "cells": [
  {
   "cell_type": "code",
   "execution_count": 16,
   "metadata": {},
   "outputs": [
    {
     "name": "stdout",
     "output_type": "stream",
     "text": [
      "The autoreload extension is already loaded. To reload it, use:\n",
      "  %reload_ext autoreload\n"
     ]
    }
   ],
   "source": [
    "%load_ext autoreload\n",
    "%autoreload 2\n",
    "import os\n",
    "import sys\n",
    "cur_dir = os.path.dirname(os.path.abspath('__file__'))\n",
    "sys.path.insert(0, os.path.abspath(\"%s/../clipper_admin\" % cur_dir))\n",
    "import logging, xgboost as xgb, numpy as np\n",
    "from clipper_admin import ClipperConnection, DockerContainerManager\n",
    "cl = ClipperConnection(DockerContainerManager(docker_ip_address='192.168.99.100'))"
   ]
  },
  {
   "cell_type": "code",
   "execution_count": null,
   "metadata": {},
   "outputs": [],
   "source": [
    "cl.start_clipper()"
   ]
  },
  {
   "cell_type": "code",
   "execution_count": 18,
   "metadata": {},
   "outputs": [
    {
     "name": "stderr",
     "output_type": "stream",
     "text": [
      "18-10-18:05:16:19 INFO     [clipper_admin.py:151] [default-cluster] Successfully connected to Clipper cluster at 192.168.99.100:1337\n"
     ]
    }
   ],
   "source": [
    "cl.connect()"
   ]
  },
  {
   "cell_type": "code",
   "execution_count": 19,
   "metadata": {},
   "outputs": [
    {
     "name": "stderr",
     "output_type": "stream",
     "text": [
      "18-10-18:05:16:22 INFO     [clipper_admin.py:213] [default-cluster] Application binary was successfully registered\n"
     ]
    }
   ],
   "source": [
    "cl.register_application('binary', 'integers', 300000, 'exp3_binary')"
   ]
  },
  {
   "cell_type": "code",
   "execution_count": null,
   "metadata": {},
   "outputs": [],
   "source": [
    "from clipper_admin.deployers import python as python_deployer\n",
    "\n",
    "# Three independent \"models\" predicting parity of input with 55%/90%/50% accuracy\n",
    "def binary55(xs): return [[(sum(x) % 2) if sum(x) % 100 < 55 else 1 - (sum(x) % 2)] for x in xs]\n",
    "def binary90(xs): return [[(sum(x) % 2) if ((sum(x) // 100) % 100) < 90 else 1 - (sum(x) % 2)] for x in xs]\n",
    "def binary50(xs): return [[(sum(x) % 2) if ((sum(x) // 10000) % 10) < 5 else 1 - (sum(x) % 2)] for x in xs]\n",
    "\n",
    "python_deployer.deploy_python_closure(cl, 'binary-55', 1, 'ints', binary55, batch_size=1)\n",
    "python_deployer.deploy_python_closure(cl, 'binary-90', 1, 'ints', binary90, batch_size=1)\n",
    "python_deployer.deploy_python_closure(cl, 'binary-50', 1, 'ints', binary50, batch_size=1)\n",
    "\n",
    "cl.link_model_to_app('binary', 'binary-55')\n",
    "cl.link_model_to_app('binary', 'binary-90')\n",
    "cl.link_model_to_app('binary', 'binary-50')"
   ]
  },
  {
   "cell_type": "code",
   "execution_count": 30,
   "metadata": {},
   "outputs": [
    {
     "name": "stdout",
     "output_type": "stream",
     "text": [
      "Running Iteration 0\n",
      "Running Iteration 1\n",
      "Running Iteration 2\n",
      "Running Iteration 3\n",
      "Running Iteration 4\n",
      "Running Iteration 5\n",
      "Running Iteration 6\n",
      "Running Iteration 7\n",
      "Running Iteration 8\n",
      "Running Iteration 9\n",
      "Running Iteration 10\n",
      "Running Iteration 11\n",
      "Running Iteration 12\n",
      "Running Iteration 13\n",
      "Running Iteration 14\n",
      "Running Iteration 15\n",
      "Running Iteration 16\n",
      "Running Iteration 17\n",
      "Running Iteration 18\n",
      "Running Iteration 19\n",
      "Running Iteration 20\n",
      "Running Iteration 21\n",
      "Running Iteration 22\n",
      "Running Iteration 23\n",
      "Running Iteration 24\n",
      "Running Iteration 25\n",
      "Running Iteration 26\n",
      "Running Iteration 27\n",
      "Running Iteration 28\n",
      "Running Iteration 29\n",
      "Running Iteration 30\n",
      "Running Iteration 31\n",
      "Running Iteration 32\n",
      "Running Iteration 33\n",
      "Running Iteration 34\n",
      "Running Iteration 35\n",
      "Running Iteration 36\n",
      "Running Iteration 37\n",
      "Running Iteration 38\n",
      "Running Iteration 39\n",
      "Running Iteration 40\n",
      "Running Iteration 41\n",
      "Running Iteration 42\n",
      "Running Iteration 43\n",
      "Running Iteration 44\n",
      "Running Iteration 45\n",
      "Running Iteration 46\n",
      "Running Iteration 47\n",
      "Running Iteration 48\n",
      "Running Iteration 49\n",
      "Running Iteration 50\n",
      "Running Iteration 51\n",
      "Running Iteration 52\n",
      "Running Iteration 53\n",
      "Running Iteration 54\n",
      "Running Iteration 55\n",
      "Running Iteration 56\n",
      "Running Iteration 57\n",
      "Running Iteration 58\n",
      "Running Iteration 59\n",
      "Running Iteration 60\n",
      "Running Iteration 61\n",
      "Running Iteration 62\n",
      "Running Iteration 63\n",
      "Running Iteration 64\n",
      "Running Iteration 65\n",
      "Running Iteration 66\n",
      "Running Iteration 67\n",
      "Running Iteration 68\n",
      "Running Iteration 69\n",
      "Running Iteration 70\n",
      "Running Iteration 71\n",
      "Running Iteration 72\n",
      "Running Iteration 73\n",
      "Running Iteration 74\n",
      "Running Iteration 75\n",
      "Running Iteration 76\n",
      "Running Iteration 77\n",
      "Running Iteration 78\n",
      "Running Iteration 79\n",
      "Running Iteration 80\n",
      "Running Iteration 81\n",
      "Running Iteration 82\n",
      "Running Iteration 83\n",
      "Running Iteration 84\n",
      "Running Iteration 85\n",
      "Running Iteration 86\n",
      "Running Iteration 87\n",
      "Running Iteration 88\n",
      "Running Iteration 89\n",
      "Running Iteration 90\n",
      "Running Iteration 91\n",
      "Running Iteration 92\n",
      "Running Iteration 93\n",
      "Running Iteration 94\n",
      "Running Iteration 95\n",
      "Running Iteration 96\n",
      "Running Iteration 97\n",
      "Running Iteration 98\n",
      "Running Iteration 99\n",
      "Running Iteration 100\n",
      "Running Iteration 101\n",
      "Running Iteration 102\n",
      "Running Iteration 103\n",
      "Running Iteration 104\n",
      "Running Iteration 105\n",
      "Running Iteration 106\n",
      "Running Iteration 107\n",
      "Running Iteration 108\n",
      "Running Iteration 109\n",
      "Running Iteration 110\n",
      "Running Iteration 111\n",
      "Running Iteration 112\n",
      "Running Iteration 113\n",
      "Running Iteration 114\n",
      "Running Iteration 115\n",
      "Running Iteration 116\n",
      "Running Iteration 117\n",
      "Running Iteration 118\n",
      "Running Iteration 119\n",
      "Running Iteration 120\n",
      "Running Iteration 121\n",
      "Running Iteration 122\n",
      "Running Iteration 123\n",
      "Running Iteration 124\n",
      "Running Iteration 125\n",
      "Running Iteration 126\n",
      "Running Iteration 127\n",
      "Running Iteration 128\n",
      "Running Iteration 129\n",
      "Running Iteration 130\n",
      "Running Iteration 131\n",
      "Running Iteration 132\n",
      "Running Iteration 133\n",
      "Running Iteration 134\n",
      "Running Iteration 135\n",
      "Running Iteration 136\n",
      "Running Iteration 137\n",
      "Running Iteration 138\n",
      "Running Iteration 139\n",
      "Running Iteration 140\n",
      "Running Iteration 141\n",
      "Running Iteration 142\n",
      "Running Iteration 143\n",
      "Running Iteration 144\n",
      "Running Iteration 145\n",
      "Running Iteration 146\n",
      "Running Iteration 147\n",
      "Running Iteration 148\n",
      "Running Iteration 149\n",
      "Running Iteration 150\n",
      "Running Iteration 151\n",
      "Running Iteration 152\n",
      "Running Iteration 153\n",
      "Running Iteration 154\n",
      "Running Iteration 155\n",
      "Running Iteration 156\n",
      "Running Iteration 157\n",
      "Running Iteration 158\n",
      "Running Iteration 159\n",
      "Running Iteration 160\n",
      "Running Iteration 161\n",
      "Running Iteration 162\n",
      "Running Iteration 163\n",
      "Running Iteration 164\n",
      "Running Iteration 165\n",
      "Running Iteration 166\n",
      "Running Iteration 167\n",
      "Running Iteration 168\n",
      "Running Iteration 169\n",
      "Running Iteration 170\n",
      "Running Iteration 171\n",
      "Running Iteration 172\n",
      "Running Iteration 173\n",
      "Running Iteration 174\n",
      "Running Iteration 175\n",
      "Running Iteration 176\n",
      "Running Iteration 177\n",
      "Running Iteration 178\n",
      "Running Iteration 179\n",
      "Running Iteration 180\n",
      "Running Iteration 181\n",
      "Running Iteration 182\n",
      "Running Iteration 183\n",
      "Running Iteration 184\n",
      "Running Iteration 185\n",
      "Running Iteration 186\n",
      "Running Iteration 187\n",
      "Running Iteration 188\n",
      "Running Iteration 189\n",
      "Running Iteration 190\n",
      "Running Iteration 191\n",
      "Running Iteration 192\n",
      "Running Iteration 193\n",
      "Running Iteration 194\n",
      "Running Iteration 195\n",
      "Running Iteration 196\n",
      "Running Iteration 197\n",
      "Running Iteration 198\n",
      "Running Iteration 199\n"
     ]
    }
   ],
   "source": [
    "import requests, json, time\n",
    "\n",
    "accuracy = []\n",
    "model55 = []\n",
    "model90 = []\n",
    "model50 = []\n",
    "addr = cl.get_query_addr()\n",
    "\n",
    "num_iters = 200\n",
    "predictions_per_iter = 100\n",
    "feedback_per_iter = 5\n",
    "\n",
    "for i in range(num_iters):\n",
    "    xs = np.random.randint(0, 10000000, predictions_per_iter)\n",
    "    ys = [x % 2 for x in xs.tolist()]\n",
    "    xx = [[x] for x in xs.tolist()]\n",
    "    prediction = []\n",
    "    print(\"Running Iteration\", i)\n",
    "\n",
    "    response = requests.post(\n",
    "         \"http://%s/%s/predict\" % (addr, 'binary'),\n",
    "         headers={\"Content-type\": \"application/json\"},\n",
    "         data=json.dumps({\n",
    "             'input_batch': xx,\n",
    "         }))\n",
    "\n",
    "    r = response.json()\n",
    "    \n",
    "    prediction = [x['combiner_output']['final_prediction'][0][0] for x in r['batch_predictions']]\n",
    "    models = [x['models_used'][0]['name'] for x in r['batch_predictions']]\n",
    "    \n",
    "    model55.append(models.count('binary-55') / predictions_per_iter)\n",
    "    model90.append(models.count('binary-90') / predictions_per_iter)\n",
    "    model50.append(models.count('binary-50') / predictions_per_iter)\n",
    "   \n",
    "    correct = sum(1 if abs(y - yhat) < 0.5 else 0 for y, yhat in zip(ys, prediction))\n",
    "    accuracy.append(correct / predictions_per_iter)\n",
    "\n",
    "    for _ in range(feedback_per_iter):\n",
    "        y = np.random.randint(0, 10000000)\n",
    "        response = requests.post(\n",
    "             \"http://%s/%s/update\" % (addr, 'binary'),\n",
    "             headers={\"Content-type\": \"application/json\"},\n",
    "             data=json.dumps({\n",
    "                 'uid': 0,\n",
    "                 'input': [y],\n",
    "                 'label': (y % 2) * 1.0\n",
    "             }))"
   ]
  },
  {
   "cell_type": "code",
   "execution_count": 31,
   "metadata": {
    "collapsed": true
   },
   "outputs": [],
   "source": [
    "import matplotlib.pyplot as plt"
   ]
  },
  {
   "cell_type": "code",
   "execution_count": 32,
   "metadata": {},
   "outputs": [
    {
     "data": {
      "text/plain": [
       "[<matplotlib.lines.Line2D at 0x7f47fc5c5e80>]"
      ]
     },
     "execution_count": 32,
     "metadata": {},
     "output_type": "execute_result"
    },
    {
     "data": {
      "image/png": "[encoded data removed]",
      "text/plain": [
       "<Figure size 432x288 with 1 Axes>"
      ]
     },
     "metadata": {},
     "output_type": "display_data"
    }
   ],
   "source": [
    "plt.plot(np.arange(0, len(accuracy)), accuracy)"
   ]
  },
  {
   "cell_type": "code",
   "execution_count": 35,
   "metadata": {},
   "outputs": [
    {
     "data": {
      "text/plain": [
       "<matplotlib.legend.Legend at 0x7f47fc41a080>"
      ]
     },
     "execution_count": 35,
     "metadata": {},
     "output_type": "execute_result"
    },
    {
     "data": {
      "image/png": "[encoded data removed]",
      "text/plain": [
       "<Figure size 432x288 with 1 Axes>"
      ]
     },
     "metadata": {},
     "output_type": "display_data"
    }
   ],
   "source": [
    "m55, = plt.plot(np.arange(len(model55)),model55, label='model-55')\n",
    "m90, = plt.plot(np.arange(len(model55)), model90, label='model-90')\n",
    "m50, = plt.plot(np.arange(len(model55)), model50, label='model-50')\n",
    "plt.legend(handles=[m55, m90, m50])"
   ]
  },
  {
   "cell_type": "code",
   "execution_count": null,
   "metadata": {},
   "outputs": [],
   "source": [
    "cl.stop_all()"
   ]
  },
  {
   "cell_type": "code",
   "execution_count": null,
   "metadata": {
    "collapsed": true
   },
   "outputs": [],
   "source": []
  }
 ],
 "metadata": {
  "kernelspec": {
   "display_name": "Python 3",
   "language": "python",
   "name": "python3"
  },
  "language_info": {
   "codemirror_mode": {
    "name": "ipython",
    "version": 3
   },
   "file_extension": ".py",
   "mimetype": "text/x-python",
   "name": "python",
   "nbconvert_exporter": "python",
   "pygments_lexer": "ipython3",
   "version": "3.5.2"
  }
 },
 "nbformat": 4,
 "nbformat_minor": 2
}
